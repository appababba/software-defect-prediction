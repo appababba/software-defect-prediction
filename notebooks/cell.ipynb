{
 "cells": [
  {
   "cell_type": "code",
   "execution_count": null,
   "id": "04f99fe1",
   "metadata": {
    "vscode": {
     "languageId": "plaintext"
    }
   },
   "outputs": [],
   "source": [
    "import pandas as pd\n",
    "import glob\n",
    "from IPython.display import display, Markdown, Image\n",
    "\n",
    "# 1. Show summary table\n",
    "summary = pd.read_csv(\"summary_metrics.csv\")\n",
    "display(Markdown(\"## Summary Metrics\"))\n",
    "display(summary)\n",
    "\n",
    "# 2. Helper to show groups of images\n",
    "def show_plots(pattern, title):\n",
    "    files = sorted(glob.glob(pattern))\n",
    "    if not files:\n",
    "        return\n",
    "    display(Markdown(f\"### {title}\"))\n",
    "    for fn in files:\n",
    "        display(Markdown(f\"**{fn}**\"))\n",
    "        display(Image(filename=fn))\n",
    "\n",
    "# 3. Display all confusion / ROC / PR plots\n",
    "show_plots(\"*_confusion.png\", \"Confusion Matrices\")\n",
    "show_plots(\"*_roc.png\",       \"ROC Curves\")\n",
    "show_plots(\"*_pr.png\",        \"Precision‑Recall Curves\")\n"
   ]
  }
 ],
 "metadata": {
  "language_info": {
   "name": "python"
  }
 },
 "nbformat": 4,
 "nbformat_minor": 5
}
